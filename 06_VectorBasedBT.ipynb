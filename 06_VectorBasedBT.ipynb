{
 "cells": [
  {
   "cell_type": "markdown",
   "id": "47063db2-7b7f-4c29-ad0a-2cdf40a1ecbf",
   "metadata": {},
   "source": [
    "## Vectorized Backtester"
   ]
  },
  {
   "cell_type": "code",
   "execution_count": 1,
   "id": "b98731b5-752f-409d-92a8-39665a9db581",
   "metadata": {},
   "outputs": [],
   "source": [
    "import pandas as pd\n",
    "import vectorbt as vbt\n",
    "from IPython.display import Markdown, display"
   ]
  },
  {
   "cell_type": "code",
   "execution_count": 2,
   "id": "17da36e1-1662-4f37-a99b-827abf97ff98",
   "metadata": {},
   "outputs": [],
   "source": [
    "import warnings\n",
    "warnings.simplefilter(\"ignore\")"
   ]
  },
  {
   "cell_type": "code",
   "execution_count": 3,
   "id": "6e0c8c40-6c03-43f4-83c4-5aa15139e7fb",
   "metadata": {},
   "outputs": [],
   "source": [
    "start=\"2015-12-31 UTC\"\n",
    "end=\"2024-12-31 UTC\"\n",
    "prices = vbt.YFData.download([\"AAPL\", \"AMZN\", \"META\", \"NFLX\", \"GOOG\"], start=start, end=end).get(\"Close\")"
   ]
  },
  {
   "cell_type": "code",
   "execution_count": 4,
   "id": "fd49e133-b719-4142-9d41-5817a16f70e9",
   "metadata": {},
   "outputs": [],
   "source": [
    "fast_ma = vbt.MA.run(prices, 10, short_name=\"short\")\n",
    "slow_ma = vbt.MA.run(prices, 30, short_name=\"long\")"
   ]
  },
  {
   "cell_type": "code",
   "execution_count": 5,
   "id": "b190ee65-f4ed-4fd9-9680-f1cccc0401c8",
   "metadata": {},
   "outputs": [
    {
     "data": {
      "text/html": [
       "<div>\n",
       "<style scoped>\n",
       "    .dataframe tbody tr th:only-of-type {\n",
       "        vertical-align: middle;\n",
       "    }\n",
       "\n",
       "    .dataframe tbody tr th {\n",
       "        vertical-align: top;\n",
       "    }\n",
       "\n",
       "    .dataframe thead tr th {\n",
       "        text-align: left;\n",
       "    }\n",
       "\n",
       "    .dataframe thead tr:last-of-type th {\n",
       "        text-align: right;\n",
       "    }\n",
       "</style>\n",
       "<table border=\"1\" class=\"dataframe\">\n",
       "  <thead>\n",
       "    <tr>\n",
       "      <th>short_window</th>\n",
       "      <th colspan=\"5\" halign=\"left\">10</th>\n",
       "    </tr>\n",
       "    <tr>\n",
       "      <th>long_window</th>\n",
       "      <th colspan=\"5\" halign=\"left\">30</th>\n",
       "    </tr>\n",
       "    <tr>\n",
       "      <th>symbol</th>\n",
       "      <th>AAPL</th>\n",
       "      <th>AMZN</th>\n",
       "      <th>META</th>\n",
       "      <th>NFLX</th>\n",
       "      <th>GOOG</th>\n",
       "    </tr>\n",
       "    <tr>\n",
       "      <th>Date</th>\n",
       "      <th></th>\n",
       "      <th></th>\n",
       "      <th></th>\n",
       "      <th></th>\n",
       "      <th></th>\n",
       "    </tr>\n",
       "  </thead>\n",
       "  <tbody>\n",
       "    <tr>\n",
       "      <th>2015-12-31 05:00:00+00:00</th>\n",
       "      <td>False</td>\n",
       "      <td>False</td>\n",
       "      <td>False</td>\n",
       "      <td>False</td>\n",
       "      <td>False</td>\n",
       "    </tr>\n",
       "    <tr>\n",
       "      <th>2016-01-04 05:00:00+00:00</th>\n",
       "      <td>False</td>\n",
       "      <td>False</td>\n",
       "      <td>False</td>\n",
       "      <td>False</td>\n",
       "      <td>False</td>\n",
       "    </tr>\n",
       "    <tr>\n",
       "      <th>2016-01-05 05:00:00+00:00</th>\n",
       "      <td>False</td>\n",
       "      <td>False</td>\n",
       "      <td>False</td>\n",
       "      <td>False</td>\n",
       "      <td>False</td>\n",
       "    </tr>\n",
       "    <tr>\n",
       "      <th>2016-01-06 05:00:00+00:00</th>\n",
       "      <td>False</td>\n",
       "      <td>False</td>\n",
       "      <td>False</td>\n",
       "      <td>False</td>\n",
       "      <td>False</td>\n",
       "    </tr>\n",
       "    <tr>\n",
       "      <th>2016-01-07 05:00:00+00:00</th>\n",
       "      <td>False</td>\n",
       "      <td>False</td>\n",
       "      <td>False</td>\n",
       "      <td>False</td>\n",
       "      <td>False</td>\n",
       "    </tr>\n",
       "    <tr>\n",
       "      <th>...</th>\n",
       "      <td>...</td>\n",
       "      <td>...</td>\n",
       "      <td>...</td>\n",
       "      <td>...</td>\n",
       "      <td>...</td>\n",
       "    </tr>\n",
       "    <tr>\n",
       "      <th>2024-12-23 05:00:00+00:00</th>\n",
       "      <td>False</td>\n",
       "      <td>False</td>\n",
       "      <td>False</td>\n",
       "      <td>False</td>\n",
       "      <td>False</td>\n",
       "    </tr>\n",
       "    <tr>\n",
       "      <th>2024-12-24 05:00:00+00:00</th>\n",
       "      <td>False</td>\n",
       "      <td>False</td>\n",
       "      <td>False</td>\n",
       "      <td>False</td>\n",
       "      <td>False</td>\n",
       "    </tr>\n",
       "    <tr>\n",
       "      <th>2024-12-26 05:00:00+00:00</th>\n",
       "      <td>False</td>\n",
       "      <td>False</td>\n",
       "      <td>False</td>\n",
       "      <td>False</td>\n",
       "      <td>False</td>\n",
       "    </tr>\n",
       "    <tr>\n",
       "      <th>2024-12-27 05:00:00+00:00</th>\n",
       "      <td>False</td>\n",
       "      <td>False</td>\n",
       "      <td>False</td>\n",
       "      <td>False</td>\n",
       "      <td>False</td>\n",
       "    </tr>\n",
       "    <tr>\n",
       "      <th>2024-12-30 05:00:00+00:00</th>\n",
       "      <td>False</td>\n",
       "      <td>False</td>\n",
       "      <td>False</td>\n",
       "      <td>False</td>\n",
       "      <td>False</td>\n",
       "    </tr>\n",
       "  </tbody>\n",
       "</table>\n",
       "<p>2264 rows × 5 columns</p>\n",
       "</div>"
      ],
      "text/plain": [
       "short_window                  10                            \n",
       "long_window                   30                            \n",
       "symbol                      AAPL   AMZN   META   NFLX   GOOG\n",
       "Date                                                        \n",
       "2015-12-31 05:00:00+00:00  False  False  False  False  False\n",
       "2016-01-04 05:00:00+00:00  False  False  False  False  False\n",
       "2016-01-05 05:00:00+00:00  False  False  False  False  False\n",
       "2016-01-06 05:00:00+00:00  False  False  False  False  False\n",
       "2016-01-07 05:00:00+00:00  False  False  False  False  False\n",
       "...                          ...    ...    ...    ...    ...\n",
       "2024-12-23 05:00:00+00:00  False  False  False  False  False\n",
       "2024-12-24 05:00:00+00:00  False  False  False  False  False\n",
       "2024-12-26 05:00:00+00:00  False  False  False  False  False\n",
       "2024-12-27 05:00:00+00:00  False  False  False  False  False\n",
       "2024-12-30 05:00:00+00:00  False  False  False  False  False\n",
       "\n",
       "[2264 rows x 5 columns]"
      ]
     },
     "metadata": {},
     "output_type": "display_data"
    }
   ],
   "source": [
    "entries = fast_ma.ma_crossed_above(slow_ma)\n",
    "display(entries)"
   ]
  },
  {
   "cell_type": "code",
   "execution_count": 6,
   "id": "fdfdfffe-a7eb-4e90-b6c4-f84069749b17",
   "metadata": {},
   "outputs": [
    {
     "data": {
      "text/html": [
       "<div>\n",
       "<style scoped>\n",
       "    .dataframe tbody tr th:only-of-type {\n",
       "        vertical-align: middle;\n",
       "    }\n",
       "\n",
       "    .dataframe tbody tr th {\n",
       "        vertical-align: top;\n",
       "    }\n",
       "\n",
       "    .dataframe thead tr th {\n",
       "        text-align: left;\n",
       "    }\n",
       "\n",
       "    .dataframe thead tr:last-of-type th {\n",
       "        text-align: right;\n",
       "    }\n",
       "</style>\n",
       "<table border=\"1\" class=\"dataframe\">\n",
       "  <thead>\n",
       "    <tr>\n",
       "      <th>short_window</th>\n",
       "      <th colspan=\"5\" halign=\"left\">10</th>\n",
       "    </tr>\n",
       "    <tr>\n",
       "      <th>long_window</th>\n",
       "      <th colspan=\"5\" halign=\"left\">30</th>\n",
       "    </tr>\n",
       "    <tr>\n",
       "      <th>symbol</th>\n",
       "      <th>AAPL</th>\n",
       "      <th>AMZN</th>\n",
       "      <th>META</th>\n",
       "      <th>NFLX</th>\n",
       "      <th>GOOG</th>\n",
       "    </tr>\n",
       "    <tr>\n",
       "      <th>Date</th>\n",
       "      <th></th>\n",
       "      <th></th>\n",
       "      <th></th>\n",
       "      <th></th>\n",
       "      <th></th>\n",
       "    </tr>\n",
       "  </thead>\n",
       "  <tbody>\n",
       "    <tr>\n",
       "      <th>2015-12-31 05:00:00+00:00</th>\n",
       "      <td>False</td>\n",
       "      <td>False</td>\n",
       "      <td>False</td>\n",
       "      <td>False</td>\n",
       "      <td>False</td>\n",
       "    </tr>\n",
       "    <tr>\n",
       "      <th>2016-01-04 05:00:00+00:00</th>\n",
       "      <td>False</td>\n",
       "      <td>False</td>\n",
       "      <td>False</td>\n",
       "      <td>False</td>\n",
       "      <td>False</td>\n",
       "    </tr>\n",
       "    <tr>\n",
       "      <th>2016-01-05 05:00:00+00:00</th>\n",
       "      <td>False</td>\n",
       "      <td>False</td>\n",
       "      <td>False</td>\n",
       "      <td>False</td>\n",
       "      <td>False</td>\n",
       "    </tr>\n",
       "    <tr>\n",
       "      <th>2016-01-06 05:00:00+00:00</th>\n",
       "      <td>False</td>\n",
       "      <td>False</td>\n",
       "      <td>False</td>\n",
       "      <td>False</td>\n",
       "      <td>False</td>\n",
       "    </tr>\n",
       "    <tr>\n",
       "      <th>2016-01-07 05:00:00+00:00</th>\n",
       "      <td>False</td>\n",
       "      <td>False</td>\n",
       "      <td>False</td>\n",
       "      <td>False</td>\n",
       "      <td>False</td>\n",
       "    </tr>\n",
       "    <tr>\n",
       "      <th>...</th>\n",
       "      <td>...</td>\n",
       "      <td>...</td>\n",
       "      <td>...</td>\n",
       "      <td>...</td>\n",
       "      <td>...</td>\n",
       "    </tr>\n",
       "    <tr>\n",
       "      <th>2024-12-23 05:00:00+00:00</th>\n",
       "      <td>False</td>\n",
       "      <td>False</td>\n",
       "      <td>False</td>\n",
       "      <td>False</td>\n",
       "      <td>False</td>\n",
       "    </tr>\n",
       "    <tr>\n",
       "      <th>2024-12-24 05:00:00+00:00</th>\n",
       "      <td>False</td>\n",
       "      <td>False</td>\n",
       "      <td>False</td>\n",
       "      <td>False</td>\n",
       "      <td>False</td>\n",
       "    </tr>\n",
       "    <tr>\n",
       "      <th>2024-12-26 05:00:00+00:00</th>\n",
       "      <td>False</td>\n",
       "      <td>False</td>\n",
       "      <td>False</td>\n",
       "      <td>False</td>\n",
       "      <td>False</td>\n",
       "    </tr>\n",
       "    <tr>\n",
       "      <th>2024-12-27 05:00:00+00:00</th>\n",
       "      <td>False</td>\n",
       "      <td>False</td>\n",
       "      <td>False</td>\n",
       "      <td>False</td>\n",
       "      <td>False</td>\n",
       "    </tr>\n",
       "    <tr>\n",
       "      <th>2024-12-30 05:00:00+00:00</th>\n",
       "      <td>False</td>\n",
       "      <td>False</td>\n",
       "      <td>False</td>\n",
       "      <td>False</td>\n",
       "      <td>False</td>\n",
       "    </tr>\n",
       "  </tbody>\n",
       "</table>\n",
       "<p>2264 rows × 5 columns</p>\n",
       "</div>"
      ],
      "text/plain": [
       "short_window                  10                            \n",
       "long_window                   30                            \n",
       "symbol                      AAPL   AMZN   META   NFLX   GOOG\n",
       "Date                                                        \n",
       "2015-12-31 05:00:00+00:00  False  False  False  False  False\n",
       "2016-01-04 05:00:00+00:00  False  False  False  False  False\n",
       "2016-01-05 05:00:00+00:00  False  False  False  False  False\n",
       "2016-01-06 05:00:00+00:00  False  False  False  False  False\n",
       "2016-01-07 05:00:00+00:00  False  False  False  False  False\n",
       "...                          ...    ...    ...    ...    ...\n",
       "2024-12-23 05:00:00+00:00  False  False  False  False  False\n",
       "2024-12-24 05:00:00+00:00  False  False  False  False  False\n",
       "2024-12-26 05:00:00+00:00  False  False  False  False  False\n",
       "2024-12-27 05:00:00+00:00  False  False  False  False  False\n",
       "2024-12-30 05:00:00+00:00  False  False  False  False  False\n",
       "\n",
       "[2264 rows x 5 columns]"
      ]
     },
     "metadata": {},
     "output_type": "display_data"
    }
   ],
   "source": [
    "exits = fast_ma.ma_crossed_below(slow_ma)\n",
    "display(exits)"
   ]
  },
  {
   "cell_type": "code",
   "execution_count": 7,
   "id": "324f6764-e0a1-4a21-9d62-22c8ea59d63d",
   "metadata": {},
   "outputs": [],
   "source": [
    "port = vbt.Portfolio.from_signals(prices, entries, exits)"
   ]
  },
  {
   "cell_type": "code",
   "execution_count": 8,
   "id": "2501e36e-20b2-4a6b-a9cf-cac381fadabb",
   "metadata": {},
   "outputs": [
    {
     "data": {
      "text/plain": [
       "Start                         2015-12-31 05:00:00+00:00\n",
       "End                           2024-12-30 05:00:00+00:00\n",
       "Period                                             2264\n",
       "Start Value                                       100.0\n",
       "End Value                                    372.463488\n",
       "Total Return [%]                             272.463488\n",
       "Benchmark Return [%]                         615.333763\n",
       "Max Gross Exposure [%]                            100.0\n",
       "Total Fees Paid                                     0.0\n",
       "Max Drawdown [%]                              43.728173\n",
       "Max Drawdown Duration                             708.2\n",
       "Total Trades                                       39.4\n",
       "Total Closed Trades                                38.4\n",
       "Total Open Trades                                   1.0\n",
       "Open Trade PnL                                27.651513\n",
       "Win Rate [%]                                  48.201368\n",
       "Best Trade [%]                                66.334753\n",
       "Worst Trade [%]                              -13.582886\n",
       "Avg Winning Trade [%]                         14.695582\n",
       "Avg Losing Trade [%]                          -5.455601\n",
       "Avg Winning Trade Duration                    58.875804\n",
       "Avg Losing Trade Duration                     16.840109\n",
       "Profit Factor                                  2.122716\n",
       "Expectancy                                     6.596076\n",
       "Name: agg_func_mean, dtype: object"
      ]
     },
     "metadata": {},
     "output_type": "display_data"
    }
   ],
   "source": [
    "display(port.stats())"
   ]
  },
  {
   "cell_type": "code",
   "execution_count": 9,
   "id": "8487b073-ef85-4e7d-91a5-beaab14fefe7",
   "metadata": {},
   "outputs": [
    {
     "data": {
      "application/vnd.jupyter.widget-view+json": {
       "model_id": "84dc8170afae4207816e8a112b29d9a6",
       "version_major": 2,
       "version_minor": 0
      },
      "text/plain": [
       "FigureWidget({\n",
       "    'data': [{'name': 'total_return',\n",
       "              'showlegend': True,\n",
       "              'type': 'bar',\n",
       "              'uid': 'f616caa3-8ea9-478f-8561-3c7726a7f473',\n",
       "              'x': array(['AAPL', 'AMZN', 'GOOG', 'META', 'NFLX'], dtype=object),\n",
       "              'y': array([4.72951995, 3.85038548, 0.64198625, 3.29751764, 1.10376506])}],\n",
       "    'layout': {'height': 350,\n",
       "               'legend': {'orientation': 'h',\n",
       "                          'traceorder': 'normal',\n",
       "                          'x': 1,\n",
       "                          'xanchor': 'right',\n",
       "                          'y': 1.02,\n",
       "                          'yanchor': 'bottom'},\n",
       "               'margin': {'b': 30, 'l': 30, 'r': 30, 't': 30},\n",
       "               'template': '...',\n",
       "               'width': 700}\n",
       "})"
      ]
     },
     "execution_count": 9,
     "metadata": {},
     "output_type": "execute_result"
    }
   ],
   "source": [
    "port.total_return().groupby(\"symbol\").mean().vbt.barplot()"
   ]
  },
  {
   "cell_type": "code",
   "execution_count": 10,
   "id": "cfe4bb5a-be5e-4e53-9a03-8a90cd8d4139",
   "metadata": {},
   "outputs": [
    {
     "data": {
      "application/vnd.jupyter.widget-view+json": {
       "model_id": "6c5d930628014317adc9d4587c373302",
       "version_major": 2,
       "version_minor": 0
      },
      "text/plain": [
       "FigureWidget({\n",
       "    'data': [{'name': 'total_return',\n",
       "              'showlegend': True,\n",
       "              'type': 'bar',\n",
       "              'uid': '79eb717d-437a-4cd0-b1e6-0ed801bd25fc',\n",
       "              'x': array(['AAPL', 'AMZN', 'GOOG', 'META', 'NFLX'], dtype=object),\n",
       "              'y': array([9.5787683 , 5.54840324, 4.09652009, 4.67072854, 6.872268  ])}],\n",
       "    'layout': {'height': 350,\n",
       "               'legend': {'orientation': 'h',\n",
       "                          'traceorder': 'normal',\n",
       "                          'x': 1,\n",
       "                          'xanchor': 'right',\n",
       "                          'y': 1.02,\n",
       "                          'yanchor': 'bottom'},\n",
       "               'margin': {'b': 30, 'l': 30, 'r': 30, 't': 30},\n",
       "               'template': '...',\n",
       "               'width': 700}\n",
       "})"
      ]
     },
     "execution_count": 10,
     "metadata": {},
     "output_type": "execute_result"
    }
   ],
   "source": [
    "vbt.Portfolio.from_holding(prices, freq=\"1d\").total_return().groupby(\"symbol\").mean().vbt.barplot()"
   ]
  },
  {
   "cell_type": "code",
   "execution_count": 11,
   "id": "4d10c19c-031e-4b1d-8908-1b078a440858",
   "metadata": {},
   "outputs": [],
   "source": [
    "mult_prices, _ = prices.vbt.range_split(n=4)"
   ]
  },
  {
   "cell_type": "code",
   "execution_count": 12,
   "id": "f4ca6183-12f5-416c-a97c-e813201cf032",
   "metadata": {},
   "outputs": [],
   "source": [
    "fast_ma = vbt.MA.run(mult_prices, [10, 20], short_name=\"fast\")\n",
    "slow_ma = vbt.MA.run(mult_prices, [30, 30], short_name=\"slow\")"
   ]
  },
  {
   "cell_type": "code",
   "execution_count": 13,
   "id": "899ca8e9-7722-46c5-a90b-e2c81c0ea6cc",
   "metadata": {},
   "outputs": [],
   "source": [
    "entries = fast_ma.ma_crossed_above(slow_ma)\n",
    "exits = fast_ma.ma_crossed_below(slow_ma)"
   ]
  },
  {
   "cell_type": "code",
   "execution_count": 14,
   "id": "2a5125e1-12c1-4d20-b467-c423d35409e2",
   "metadata": {},
   "outputs": [],
   "source": [
    "port = vbt.Portfolio.from_signals(mult_prices, entries, exits, freq=\"1D\")"
   ]
  },
  {
   "cell_type": "code",
   "execution_count": 15,
   "id": "c1b8f628-f8f7-40ff-9b17-d2f16d1f7e61",
   "metadata": {},
   "outputs": [
    {
     "data": {
      "application/vnd.jupyter.widget-view+json": {
       "model_id": "78c99f00399644a281ed4ca3eebc57a2",
       "version_major": 2,
       "version_minor": 0
      },
      "text/plain": [
       "FigureWidget({\n",
       "    'data': [{'name': 'AAPL',\n",
       "              'showlegend': True,\n",
       "              'type': 'bar',\n",
       "              'uid': '0679f10b-8e7a-46bd-9413-f1cab6f9156f',\n",
       "              'x': array([0, 1, 2, 3], dtype=int64),\n",
       "              'y': array([0.30232389, 1.4149583 , 0.10669801, 0.28168666])},\n",
       "             {'name': 'AMZN',\n",
       "              'showlegend': True,\n",
       "              'type': 'bar',\n",
       "              'uid': 'aed105ab-d228-4617-85d2-7f326d3cbbb6',\n",
       "              'x': array([0, 1, 2, 3], dtype=int64),\n",
       "              'y': array([ 1.03913867,  0.43469221, -0.24683386,  0.90073535])},\n",
       "             {'name': 'GOOG',\n",
       "              'showlegend': True,\n",
       "              'type': 'bar',\n",
       "              'uid': '88ff0367-dc4f-4af4-a89d-3e851ff3e957',\n",
       "              'x': array([0, 1, 2, 3], dtype=int64),\n",
       "              'y': array([0.0398932 , 0.32271836, 0.01128335, 0.20246764])},\n",
       "             {'name': 'META',\n",
       "              'showlegend': True,\n",
       "              'type': 'bar',\n",
       "              'uid': '4a66c5f9-940c-415c-b0ba-d94d9ee781a8',\n",
       "              'x': array([0, 1, 2, 3], dtype=int64),\n",
       "              'y': array([ 0.06727819,  0.63351571, -0.16071397,  2.23277667])},\n",
       "             {'name': 'NFLX',\n",
       "              'showlegend': True,\n",
       "              'type': 'bar',\n",
       "              'uid': '3b46beb2-cb5e-4c3e-be46-eb9be74b87fc',\n",
       "              'x': array([0, 1, 2, 3], dtype=int64),\n",
       "              'y': array([ 0.40396555,  0.06254628, -0.34127237,  0.97990589])}],\n",
       "    'layout': {'height': 350,\n",
       "               'legend': {'orientation': 'h',\n",
       "                          'traceorder': 'normal',\n",
       "                          'x': 1,\n",
       "                          'xanchor': 'right',\n",
       "                          'y': 1.02,\n",
       "                          'yanchor': 'bottom'},\n",
       "               'margin': {'b': 30, 'l': 30, 'r': 30, 't': 30},\n",
       "               'template': '...',\n",
       "               'width': 700}\n",
       "})"
      ]
     },
     "execution_count": 15,
     "metadata": {},
     "output_type": "execute_result"
    }
   ],
   "source": [
    "port.total_return().groupby([\"split_idx\", \"symbol\"]).mean().unstack(level=-1).vbt.barplot()"
   ]
  },
  {
   "cell_type": "code",
   "execution_count": 16,
   "id": "c4d80ef6-20c6-467b-9149-82f625e9d735",
   "metadata": {},
   "outputs": [
    {
     "data": {
      "text/plain": [
       "Start                                0\n",
       "End                                565\n",
       "Period               566 days 00:00:00\n",
       "Total Records                      738\n",
       "Total Buy Orders                   381\n",
       "Total Sell Orders                  357\n",
       "Min Size                      0.129586\n",
       "Max Size                      4.706515\n",
       "Avg Size                      1.130154\n",
       "Avg Buy Size                  1.124771\n",
       "Avg Sell Size                   1.1359\n",
       "Avg Buy Price               178.938912\n",
       "Avg Sell Price              176.683989\n",
       "Total Fees                         0.0\n",
       "Min Fees                           0.0\n",
       "Max Fees                           0.0\n",
       "Avg Fees                           0.0\n",
       "Avg Buy Fees                       0.0\n",
       "Avg Sell Fees                      0.0\n",
       "Name: group, dtype: object"
      ]
     },
     "metadata": {},
     "output_type": "display_data"
    }
   ],
   "source": [
    "display(port.orders.stats(group_by=True))"
   ]
  },
  {
   "cell_type": "code",
   "execution_count": 17,
   "id": "95d56736-2d22-4bae-baba-592a8ab70aee",
   "metadata": {
    "scrolled": true
   },
   "outputs": [
    {
     "data": {
      "text/plain": [
       "fast_window  slow_window  split_idx  symbol\n",
       "10           30           0          AAPL      1.385101\n",
       "                                     AMZN      1.734586\n",
       "                                     META      0.111586\n",
       "                                     NFLX      0.527159\n",
       "                                     GOOG      0.559279\n",
       "                          1          AAPL      2.689861\n",
       "                                     AMZN      1.112981\n",
       "                                     META      1.034130\n",
       "                                     NFLX      0.293467\n",
       "                                     GOOG      0.922784\n",
       "                          2          AAPL      0.315057\n",
       "                                     AMZN     -0.680440\n",
       "                                     META     -0.451229\n",
       "                                     NFLX     -0.611166\n",
       "                                     GOOG      0.063534\n",
       "                          3          AAPL      0.954340\n",
       "                                     AMZN      1.404871\n",
       "                                     META      2.116632\n",
       "                                     NFLX      1.632057\n",
       "                                     GOOG      0.416449\n",
       "20           30           0          AAPL      0.582936\n",
       "                                     AMZN      2.138545\n",
       "                                     META      0.503961\n",
       "                                     NFLX      1.014206\n",
       "                                     GOOG     -0.105754\n",
       "                          1          AAPL      2.243893\n",
       "                                     AMZN      1.095572\n",
       "                                     META      1.675155\n",
       "                                     NFLX      0.271952\n",
       "                                     GOOG      0.858895\n",
       "                          2          AAPL      0.476466\n",
       "                                     AMZN     -0.438229\n",
       "                                     META     -0.067864\n",
       "                                     NFLX     -0.492987\n",
       "                                     GOOG      0.241223\n",
       "                          3          AAPL      0.854974\n",
       "                                     AMZN      1.746702\n",
       "                                     META      1.885136\n",
       "                                     NFLX      1.477860\n",
       "                                     GOOG      0.696834\n",
       "Name: sharpe_ratio, dtype: float64"
      ]
     },
     "metadata": {},
     "output_type": "display_data"
    }
   ],
   "source": [
    "display(port.sharpe_ratio())"
   ]
  },
  {
   "cell_type": "markdown",
   "id": "cfd50bc5-322e-4b86-9cb6-e35a3eb5b428",
   "metadata": {},
   "source": [
    "## Forward optimization"
   ]
  },
  {
   "cell_type": "code",
   "execution_count": 18,
   "id": "94fd344f-3d78-438e-9273-c77ab918f91a",
   "metadata": {},
   "outputs": [],
   "source": [
    "import numpy as np\n",
    "import scipy.stats as stats\n",
    "import vectorbt as vbt"
   ]
  },
  {
   "cell_type": "code",
   "execution_count": 19,
   "id": "e53277b5-1751-4f27-a20d-3fcf92a74eed",
   "metadata": {},
   "outputs": [],
   "source": [
    "start = \"2015-12-31 UTC\"\n",
    "end = \"2019-12-31 UTC\"\n",
    "prices = vbt.YFData.download(\"AAPL\", start=start, end=end).get(\"Close\")"
   ]
  },
  {
   "cell_type": "code",
   "execution_count": 20,
   "id": "10d1cf52-f008-4bb1-ad9d-ba694b3d3660",
   "metadata": {},
   "outputs": [],
   "source": [
    "(in_price, in_indexes), (out_price, out_indexes) = prices.vbt.rolling_split(n=30,\n",
    "                                                                            window_len=365 * 2,\n",
    "                                                                            set_lens=(180,),\n",
    "                                                                            left_to_right=False)"
   ]
  },
  {
   "cell_type": "code",
   "execution_count": 21,
   "id": "9dd52a9c-aef7-4d5d-a5da-92ab62545197",
   "metadata": {},
   "outputs": [],
   "source": [
    "def sim_all_params(price, windows, **kwargs):\n",
    "    fast_ma, slow_ma = vbt.MA.run_combs(price,\n",
    "                                        windows,\n",
    "                                        r=2,\n",
    "                                        short_names=[\"fast\", \"slow\"])\n",
    "    entries = fast_ma.ma_crossed_above(slow_ma)\n",
    "    exits = fast_ma.ma_crossed_below(slow_ma)\n",
    "    port = vbt.Portfolio.from_signals(price, entries, exits, **kwargs)\n",
    "    return port.sharpe_ratio()"
   ]
  },
  {
   "cell_type": "code",
   "execution_count": 22,
   "id": "7184b2e4-4e77-4b54-afea-dc1f94e56eef",
   "metadata": {},
   "outputs": [],
   "source": [
    "def get_best_index(performance):\n",
    "    return performance[performance.groupby(\"split_idx\").idxmax()].index\n",
    "\n",
    "def get_best_params(best_index, level_name):\n",
    "    return best_index.get_level_values(level_name).to_numpy()"
   ]
  },
  {
   "cell_type": "code",
   "execution_count": 23,
   "id": "f61e9ec4-ab8b-4488-8142-60611254e60c",
   "metadata": {},
   "outputs": [],
   "source": [
    "def sim_best_params(price, best_fast_windows, best_slow_windows, **kwargs):\n",
    "    fast_ma = vbt.MA.run(price, window=best_fast_windows, per_column=True)\n",
    "    slow_ma = vbt.MA.run(price, window=best_slow_windows, per_column=True)\n",
    "    entries = fast_ma.ma_crossed_above(slow_ma)\n",
    "    exits = fast_ma.ma_crossed_below(slow_ma)\n",
    "    port = vbt.Portfolio.from_signals(price, entries, exits, **kwargs)\n",
    "    return port.sharpe_ratio()"
   ]
  },
  {
   "cell_type": "markdown",
   "id": "0eed4ef7-aa58-4dd8-a3c0-f49152ab806c",
   "metadata": {},
   "source": [
    "### In-sample"
   ]
  },
  {
   "cell_type": "code",
   "execution_count": 24,
   "id": "8dc69bb5-eaa8-4a0e-81ba-552e422b6c2f",
   "metadata": {},
   "outputs": [],
   "source": [
    "windows = np.arange(10, 40)\n",
    "in_sharpe = sim_all_params(in_price, windows, direction=\"both\", freq=\"d\")"
   ]
  },
  {
   "cell_type": "code",
   "execution_count": 25,
   "id": "834f1d10-65b5-4661-a090-142c1b371c6c",
   "metadata": {},
   "outputs": [],
   "source": [
    "in_best_index = get_best_index(in_sharpe)\n",
    "in_best_fast_windows = get_best_params(in_best_index, \"fast_window\")\n",
    "in_best_slow_windows = get_best_params(in_best_index, \"slow_window\")\n",
    "in_best_window_pairs = np.array(list(zip(in_best_fast_windows, in_best_slow_windows)))"
   ]
  },
  {
   "cell_type": "markdown",
   "id": "33e03a32-4266-4870-878b-b6b77d20fdee",
   "metadata": {},
   "source": [
    "### Out-of-sample"
   ]
  },
  {
   "cell_type": "code",
   "execution_count": 26,
   "id": "12269b31-77e7-4c5a-94c0-2a00a620891d",
   "metadata": {},
   "outputs": [
    {
     "data": {
      "text/plain": [
       "ma_window  ma_window  split_idx\n",
       "10         11         0           -0.020974\n",
       "12         13         1            0.322699\n",
       "                      2            0.751386\n",
       "10         11         3            1.477455\n",
       "12         13         4            1.161412\n",
       "10         11         5            2.040427\n",
       "                      6            2.026685\n",
       "18         23         7            2.732003\n",
       "                      8            2.147848\n",
       "                      9            2.236980\n",
       "                      10           2.546842\n",
       "                      11           2.714035\n",
       "                      12           2.487526\n",
       "                      13           2.815397\n",
       "                      14           2.579146\n",
       "                      15           1.150049\n",
       "24         25         16           0.358654\n",
       "23         26         17           0.722216\n",
       "                      18           1.001097\n",
       "24         25         19           0.312880\n",
       "                      20          -0.004982\n",
       "                      21          -0.531237\n",
       "                      22          -1.013727\n",
       "                      23          -0.751868\n",
       "                      24          -0.131325\n",
       "                      25           0.381287\n",
       "                      26           0.668851\n",
       "                      27           0.612815\n",
       "                      28           0.931921\n",
       "                      29           1.380179\n",
       "Name: sharpe_ratio, dtype: float64"
      ]
     },
     "metadata": {},
     "output_type": "display_data"
    }
   ],
   "source": [
    "out_test_sharpe = sim_best_params(out_price,\n",
    "                                  in_best_fast_windows,\n",
    "                                  in_best_slow_windows,\n",
    "                                  direction=\"both\",\n",
    "                                  freq=\"d\")\n",
    "display(out_test_sharpe)"
   ]
  },
  {
   "cell_type": "code",
   "execution_count": 27,
   "id": "044fb63d-bc99-457a-8672-5427f4745d70",
   "metadata": {},
   "outputs": [
    {
     "data": {
      "text/plain": [
       "['__annotations__',\n",
       " '__cached_asset_flow',\n",
       " '__cached_asset_value',\n",
       " '__cached_assets',\n",
       " '__cached_benchmark_returns',\n",
       " '__cached_benchmark_value',\n",
       " '__cached_cash',\n",
       " '__cached_cash_flow',\n",
       " '__cached_get_filled_close',\n",
       " '__cached_get_init_cash',\n",
       " '__cached_get_orders',\n",
       " '__cached_get_returns_acc',\n",
       " '__cached_orders',\n",
       " '__cached_returns',\n",
       " '__cached_sharpe_ratio',\n",
       " '__cached_total_profit',\n",
       " '__cached_total_return',\n",
       " '__cached_value',\n",
       " '__class__',\n",
       " '__delattr__',\n",
       " '__dict__',\n",
       " '__dir__',\n",
       " '__doc__',\n",
       " '__eq__',\n",
       " '__format__',\n",
       " '__ge__',\n",
       " '__getattribute__',\n",
       " '__getitem__',\n",
       " '__gt__',\n",
       " '__hash__',\n",
       " '__init__',\n",
       " '__init_subclass__',\n",
       " '__le__',\n",
       " '__lt__',\n",
       " '__module__',\n",
       " '__ne__',\n",
       " '__new__',\n",
       " '__reduce__',\n",
       " '__reduce_ex__',\n",
       " '__repr__',\n",
       " '__setattr__',\n",
       " '__sizeof__',\n",
       " '__str__',\n",
       " '__subclasshook__',\n",
       " '__weakref__',\n",
       " '_call_seq',\n",
       " '_cash_sharing',\n",
       " '_close',\n",
       " '_config',\n",
       " '_fillna_close',\n",
       " '_iloc',\n",
       " '_indexing_kwargs',\n",
       " '_init_cash',\n",
       " '_loc',\n",
       " '_log_records',\n",
       " '_metrics',\n",
       " '_order_records',\n",
       " '_subplots',\n",
       " '_trades_type',\n",
       " '_wrapper',\n",
       " 'alpha',\n",
       " 'annual_returns',\n",
       " 'annualized_return',\n",
       " 'annualized_volatility',\n",
       " 'asset_flow',\n",
       " 'asset_returns',\n",
       " 'asset_value',\n",
       " 'assets',\n",
       " 'benchmark_rets',\n",
       " 'benchmark_returns',\n",
       " 'benchmark_value',\n",
       " 'beta',\n",
       " 'build_metrics_doc',\n",
       " 'build_subplots_doc',\n",
       " 'call_seq',\n",
       " 'calmar_ratio',\n",
       " 'capture',\n",
       " 'cash',\n",
       " 'cash_flow',\n",
       " 'cash_sharing',\n",
       " 'close',\n",
       " 'cond_value_at_risk',\n",
       " 'config',\n",
       " 'copy',\n",
       " 'cumulative_returns',\n",
       " 'daily_returns',\n",
       " 'deep_getattr',\n",
       " 'deflated_sharpe_ratio',\n",
       " 'down_capture',\n",
       " 'downside_risk',\n",
       " 'drawdown',\n",
       " 'drawdowns',\n",
       " 'dumps',\n",
       " 'entry_trades',\n",
       " 'exit_trades',\n",
       " 'fillna_close',\n",
       " 'final_value',\n",
       " 'from_holding',\n",
       " 'from_order_func',\n",
       " 'from_orders',\n",
       " 'from_random_signals',\n",
       " 'from_signals',\n",
       " 'get_drawdowns',\n",
       " 'get_entry_trades',\n",
       " 'get_exit_trades',\n",
       " 'get_filled_close',\n",
       " 'get_init_cash',\n",
       " 'get_logs',\n",
       " 'get_orders',\n",
       " 'get_positions',\n",
       " 'get_qs',\n",
       " 'get_returns_acc',\n",
       " 'get_trades',\n",
       " 'gross_exposure',\n",
       " 'iloc',\n",
       " 'indexing_func',\n",
       " 'indexing_kwargs',\n",
       " 'information_ratio',\n",
       " 'init_cash',\n",
       " 'load',\n",
       " 'loads',\n",
       " 'loc',\n",
       " 'log_records',\n",
       " 'logs',\n",
       " 'max_drawdown',\n",
       " 'metrics',\n",
       " 'net_exposure',\n",
       " 'omega_ratio',\n",
       " 'order_records',\n",
       " 'orders',\n",
       " 'override_metrics_doc',\n",
       " 'override_subplots_doc',\n",
       " 'plot',\n",
       " 'plot_asset_flow',\n",
       " 'plot_asset_value',\n",
       " 'plot_assets',\n",
       " 'plot_cash',\n",
       " 'plot_cash_flow',\n",
       " 'plot_cum_returns',\n",
       " 'plot_drawdowns',\n",
       " 'plot_gross_exposure',\n",
       " 'plot_net_exposure',\n",
       " 'plot_orders',\n",
       " 'plot_position_pnl',\n",
       " 'plot_positions',\n",
       " 'plot_trade_pnl',\n",
       " 'plot_trades',\n",
       " 'plot_underwater',\n",
       " 'plot_value',\n",
       " 'plots',\n",
       " 'plots_defaults',\n",
       " 'position_coverage',\n",
       " 'position_mask',\n",
       " 'positions',\n",
       " 'post_resolve_attr',\n",
       " 'pre_resolve_attr',\n",
       " 'qs',\n",
       " 'regroup',\n",
       " 'replace',\n",
       " 'resolve_attr',\n",
       " 'resolve_self',\n",
       " 'returns',\n",
       " 'returns_acc',\n",
       " 'returns_stats',\n",
       " 'save',\n",
       " 'select_one',\n",
       " 'select_one_from_obj',\n",
       " 'self_aliases',\n",
       " 'sharpe_ratio',\n",
       " 'sortino_ratio',\n",
       " 'stats',\n",
       " 'stats_defaults',\n",
       " 'subplots',\n",
       " 'tail_ratio',\n",
       " 'to_doc',\n",
       " 'total_benchmark_return',\n",
       " 'total_profit',\n",
       " 'total_return',\n",
       " 'trades',\n",
       " 'trades_type',\n",
       " 'up_capture',\n",
       " 'update_config',\n",
       " 'value',\n",
       " 'value_at_risk',\n",
       " 'wrapper',\n",
       " 'writeable_attrs',\n",
       " 'xs']"
      ]
     },
     "execution_count": 27,
     "metadata": {},
     "output_type": "execute_result"
    }
   ],
   "source": [
    "dir(port)"
   ]
  },
  {
   "cell_type": "code",
   "execution_count": 28,
   "id": "cf9c1839-90ca-4422-9471-c31d2b4d7c0c",
   "metadata": {},
   "outputs": [
    {
     "data": {
      "text/plain": [
       "-1.0383533180444202"
      ]
     },
     "metadata": {},
     "output_type": "display_data"
    },
    {
     "data": {
      "text/plain": [
       "0.8482924329427151"
      ]
     },
     "metadata": {},
     "output_type": "display_data"
    }
   ],
   "source": [
    "in_sample_best = in_sharpe[in_best_index].values\n",
    "out_sample_test = out_test_sharpe.values\n",
    "t, p = stats.ttest_ind(a=out_sample_test,\n",
    "                       b=in_sample_best,\n",
    "                       alternative=\"greater\")\n",
    "display(t, p)"
   ]
  },
  {
   "cell_type": "code",
   "execution_count": 29,
   "id": "bad27d84-4693-4f1c-bde6-6632b31802f3",
   "metadata": {},
   "outputs": [
    {
     "data": {
      "text/plain": [
       "ma_window  ma_window  split_idx\n",
       "10         11         0           -0.020974\n",
       "12         13         1            0.322699\n",
       "                      2            0.751386\n",
       "10         11         3            1.477455\n",
       "12         13         4            1.161412\n",
       "10         11         5            2.040427\n",
       "                      6            2.026685\n",
       "18         23         7            2.732003\n",
       "                      8            2.147848\n",
       "                      9            2.236980\n",
       "                      10           2.546842\n",
       "                      11           2.714035\n",
       "                      12           2.487526\n",
       "                      13           2.815397\n",
       "                      14           2.579146\n",
       "                      15           1.150049\n",
       "24         25         16           0.358654\n",
       "23         26         17           0.722216\n",
       "                      18           1.001097\n",
       "24         25         19           0.312880\n",
       "                      20          -0.004982\n",
       "                      21          -0.531237\n",
       "                      22          -1.013727\n",
       "                      23          -0.751868\n",
       "                      24          -0.131325\n",
       "                      25           0.381287\n",
       "                      26           0.668851\n",
       "                      27           0.612815\n",
       "                      28           0.931921\n",
       "                      29           1.380179\n",
       "Name: sharpe_ratio, dtype: float64"
      ]
     },
     "metadata": {},
     "output_type": "display_data"
    }
   ],
   "source": [
    "display(out_test_sharpe)"
   ]
  }
 ],
 "metadata": {
  "kernelspec": {
   "display_name": "Python 3 (ipykernel)",
   "language": "python",
   "name": "python3"
  },
  "language_info": {
   "codemirror_mode": {
    "name": "ipython",
    "version": 3
   },
   "file_extension": ".py",
   "mimetype": "text/x-python",
   "name": "python",
   "nbconvert_exporter": "python",
   "pygments_lexer": "ipython3",
   "version": "3.10.16"
  }
 },
 "nbformat": 4,
 "nbformat_minor": 5
}
